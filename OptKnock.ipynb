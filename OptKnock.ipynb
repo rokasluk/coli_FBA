{
 "cells": [
  {
   "cell_type": "code",
   "execution_count": null,
   "metadata": {},
   "outputs": [],
   "source": [
    "#Importing the OptKnock and production envelope modules from cameo\n",
    "from cameo.strain_design import OptKnock\n",
    "from cameo import load_model\n",
    "from cameo import phenotypic_phase_plane\n",
    "from cameo.visualization.plotting.with_plotly import PlotlyPlotter"
   ]
  },
  {
   "cell_type": "code",
   "execution_count": null,
   "metadata": {},
   "outputs": [],
   "source": [
    "#Loading the MEV (or MEP) metabolic model\n",
    "model = load_model('iJO1366_MEV.xml')\n",
    "#model = load_model('iJO1366_MEP.xml')\n",
    "\n",
    "#Knocking out the MEP pathway starting reaction so only the MEV pathway is used\n",
    "#Don't need this bit if you're using the MEP model\n",
    "model.reactions.get_by_id(\"DXPRIi\").knock_out()"
   ]
  },
  {
   "cell_type": "code",
   "execution_count": null,
   "metadata": {},
   "outputs": [],
   "source": [
    "#Setting gurobi as the solver for the model\n",
    "model.solver = 'gurobi'\n",
    "\n",
    "#Solving the FBA for wt (before knockout)\n",
    "wt_solution = model.optimize()\n",
    "\n",
    "#The fluxes for reaction of WT model\n",
    "growth = wt_solution.fluxes[\"BIOMASS_Ec_iJO1366_core_53p95M\"]\n",
    "\n",
    "#The flux through the beta-carotene sink reaction\n",
    "caro_production = wt_solution.fluxes[\"DM_CRTY\"]"
   ]
  },
  {
   "cell_type": "code",
   "execution_count": null,
   "metadata": {},
   "outputs": [],
   "source": [
    "#Set up plotlyplotter due to some problems of running the plot function and it not recognising plotly\n",
    "plotter = PlotlyPlotter()\n",
    "\n",
    "#Set up the production enevelope for the WT model\n",
    "p = phenotypic_phase_plane(model, variables=['BIOMASS_Ec_iJO1366_core_53p95M'], objective='DM_CRTY')\n",
    "p.plot(plotter, points=[(growth, caro_production)])"
   ]
  },
  {
   "cell_type": "code",
   "execution_count": null,
   "metadata": {},
   "outputs": [],
   "source": [
    "#Creating the OptKnock model\n",
    "optknock = OptKnock(model)"
   ]
  },
  {
   "cell_type": "code",
   "execution_count": null,
   "metadata": {},
   "outputs": [],
   "source": [
    "#Running OptKnock, it can be done for multiple reactions\n",
    "result = optknock.run(max_knockouts=1,\n",
    "                      target=\"DM_CRTY\",\n",
    "                      biomass=\"BIOMASS_Ec_iJO1366_core_53p95M\")\n",
    "result"
   ]
  },
  {
   "cell_type": "code",
   "execution_count": null,
   "metadata": {},
   "outputs": [],
   "source": [
    "#A comparison of production envelopes for knockout (MT) and WT models\n",
    "result.plot(plotter, 0)\n",
    "\n",
    "#As can be seen no knockout will increase the production while at the same time increasing growth rate\n",
    "#and the only possible knockouts are for essential reactions, that jeapordize the growth of the organism."
   ]
  }
 ],
 "metadata": {
  "celltoolbar": "Tags",
  "kernelspec": {
   "display_name": "Python 3",
   "language": "python",
   "name": "python3"
  },
  "language_info": {
   "codemirror_mode": {
    "name": "ipython",
    "version": 3
   },
   "file_extension": ".py",
   "mimetype": "text/x-python",
   "name": "python",
   "nbconvert_exporter": "python",
   "pygments_lexer": "ipython3",
   "version": "3.8.0"
  }
 },
 "nbformat": 4,
 "nbformat_minor": 5
}
