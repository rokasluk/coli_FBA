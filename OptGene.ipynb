{
 "cells": [
  {
   "cell_type": "code",
   "execution_count": null,
   "metadata": {},
   "outputs": [],
   "source": [
    "#Importing the OptGene gene knockout framework and production envelope modules from cameo\n",
    "from cameo.strain_design.heuristic.evolutionary_based import OptGene\n",
    "from cameo import phenotypic_phase_plane\n",
    "from cameo import load_model\n",
    "from cameo.visualization.plotting.with_plotly import PlotlyPlotter"
   ]
  },
  {
   "cell_type": "code",
   "execution_count": null,
   "metadata": {},
   "outputs": [],
   "source": [
    "#Loading the desired model\n",
    "model = load_model('iJO1366_MEV.xml')\n",
    "\n",
    "#Knock out MEP pathway, so only MEV is used\n",
    "model.reactions.get_by_id(\"DXPRIi\").knock_out()\n",
    "\n",
    "#model = load_model('iJO1366_MEP.xml')"
   ]
  },
  {
   "cell_type": "code",
   "execution_count": null,
   "metadata": {},
   "outputs": [],
   "source": [
    "#Setting the solver to gurobi\n",
    "model.solver = 'gurobi'"
   ]
  },
  {
   "cell_type": "code",
   "execution_count": null,
   "metadata": {},
   "outputs": [],
   "source": [
    "#Solving the FBA for the Wild Type model\n",
    "wt_solution = model.optimize()\n",
    "growth = wt_solution.fluxes[\"BIOMASS_Ec_iJO1366_core_53p95M\"]\n",
    "caro_production = wt_solution.fluxes[\"DM_CRTY\"]"
   ]
  },
  {
   "cell_type": "code",
   "execution_count": null,
   "metadata": {},
   "outputs": [],
   "source": [
    "#Import set PlotlyPlotter as the plotter due to errors in the plot function\n",
    "plotter = PlotlyPlotter()\n",
    "\n",
    "#Set up the production envelope\n",
    "p = phenotypic_phase_plane(model, variables=['BIOMASS_Ec_iJO1366_core_53p95M'], objective='DM_CRTY')\n",
    "p.plot(plotter, points=[(growth, caro_production)])"
   ]
  },
  {
   "cell_type": "code",
   "execution_count": null,
   "metadata": {},
   "outputs": [],
   "source": [
    "#Creating the OptGene model\n",
    "optgene = OptGene(model)"
   ]
  },
  {
   "cell_type": "code",
   "execution_count": null,
   "metadata": {},
   "outputs": [],
   "source": [
    "#Running the OptGene model to locate possible gene knockouts to improve flux through the beta-carotene sink reaction\n",
    "#The OptGene is run to be growth coupled, so it aims to find reactions that would make the production of beta-carotene\n",
    "#be tied with the growth of the organism\n",
    "result = optgene.run(target=model.reactions.DM_CRTY, \n",
    "                     biomass=model.reactions.BIOMASS_Ec_iJO1366_core_53p95M,\n",
    "                     substrate=model.metabolites.glc__D_e,\n",
    "                     growth_coupled=True,\n",
    "                     max_evaluations=20000,\n",
    "                     population_size=200,\n",
    "                     max_knockout=5,\n",
    "                     plot=False)\n",
    "result"
   ]
  },
  {
   "cell_type": "code",
   "execution_count": null,
   "metadata": {},
   "outputs": [],
   "source": [
    "#If OptGene had found any possible knockouts this line would have been\n",
    "#used to plot the production envelope for comparison between WT and mutants produced\n",
    "\n",
    "#result.plot(plotter, 0)"
   ]
  }
 ],
 "metadata": {
  "celltoolbar": "Tags",
  "kernelspec": {
   "display_name": "Python 3",
   "language": "python",
   "name": "python3"
  },
  "language_info": {
   "codemirror_mode": {
    "name": "ipython",
    "version": 3
   },
   "file_extension": ".py",
   "mimetype": "text/x-python",
   "name": "python",
   "nbconvert_exporter": "python",
   "pygments_lexer": "ipython3",
   "version": "3.8.0"
  }
 },
 "nbformat": 4,
 "nbformat_minor": 4
}
